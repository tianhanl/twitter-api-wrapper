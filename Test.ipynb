{
 "cells": [
  {
   "cell_type": "code",
   "execution_count": 1,
   "metadata": {},
   "outputs": [],
   "source": [
    "import twitter\n"
   ]
  },
  {
   "cell_type": "code",
   "execution_count": 3,
   "metadata": {},
   "outputs": [],
   "source": [
    "unionResult = twitter.search_multiple_times(query = 'state of the union', language='en', times=90)"
   ]
  },
  {
   "cell_type": "code",
   "execution_count": 14,
   "metadata": {},
   "outputs": [],
   "source": [
    "unionTexts = twitter.get_texts(unionResult)"
   ]
  },
  {
   "cell_type": "code",
   "execution_count": 15,
   "metadata": {},
   "outputs": [
    {
     "data": {
      "text/plain": [
       "9000"
      ]
     },
     "execution_count": 15,
     "metadata": {},
     "output_type": "execute_result"
    }
   ],
   "source": [
    "len(unionTexts)"
   ]
  },
  {
   "cell_type": "code",
   "execution_count": 19,
   "metadata": {},
   "outputs": [
    {
     "data": {
      "text/plain": [
       "[\"RT @WithPGV: It is another Conspiracy to Pay Millions of Dollars to Insurance Companies. How can 50 Crore People's Health Budget be Rs 2000…\",\n",
       " \"RT @perfectsliders: Rush #Limbaugh says Trumps state of the union speech was the best #sotu he has ever seen. .  He's 67 years old and has…\",\n",
       " 'I liked a @YouTube video https://t.co/Sa15PG9n2T Chris Brown - State of the Union (Music Video)',\n",
       " 'Forget About It https://t.co/wll2WTGmpl',\n",
       " 'RT @DailySignal: Who Was the Daring Defector Who Raised His Crutches High, Defying the Kim Regime During the State of the Union? https://t.…',\n",
       " 'William Rivers Pitt | None of This Is Normal, State of the Union Edition https://t.co/Boz7uCfyYW via @truthout',\n",
       " 'RT @AMike4761: JUST IN: SIX BLACK CAUCUS DEMOCRATS Boycotting Trump’s State of the Union Speech CAUGHT On VIDEO Hugging Racist Hate Preache…',\n",
       " 'RT @FLOTUS: Last night I was surrounded by a wonderful group of guests for the State of the Union. It was a privilege to meet them and hear…',\n",
       " 'RT @WashTimes: \"Here are at least some of the small-minded in the Democratic Party camp who’ve opted out of the address: Reps. @repjohnlewi…',\n",
       " 'The $1.3 trillion tax increase Trump announced in his State of the Union speech https://t.co/verD3U7ehS',\n",
       " 'RT @realDonaldTrump: Thank you for all of the nice compliments and reviews on the State of the Union speech. 45.6 million people watched, t…',\n",
       " 'RT @AMike4761: JUST IN: SIX BLACK CAUCUS DEMOCRATS Boycotting Trump’s State of the Union Speech CAUGHT On VIDEO Hugging Racist Hate Preache…',\n",
       " 'RT @remi_banaga: Eventually, we will need to discuss the future of our nation: the attainments of the union of both #Cameroon-s that our fo…',\n",
       " 'RT @ShadyLadyMe: @BarbMuenchen @POTUS The State of the Union Address showed me just how awful the dems are.  They had no respect for POTUS,…',\n",
       " 'RT @ManishTewari: State of the Union: Modicare is a fine idea, but wheres the money? https://t.co/hXGJnq2Yum State of the Union: Modicare i…',\n",
       " 'RT @realDonaldTrump: Thank you for all of the nice compliments and reviews on the State of the Union speech. 45.6 million people watched, t…',\n",
       " 'RT @realDonaldTrump: Thank you for all of the nice compliments and reviews on the State of the Union speech. 45.6 million people watched, t…',\n",
       " \"RT @perfectsliders: Rush #Limbaugh says Trumps state of the union speech was the best #sotu he has ever seen. .  He's 67 years old and has…\",\n",
       " 'RT @RealErinCruz: CELEBRATING THE STATE OF THE UNION: https://t.co/aybR40tvFX via @YouTube',\n",
       " 'RT @AMike4761: JUST IN: SIX BLACK CAUCUS DEMOCRATS Boycotting Trump’s State of the Union Speech CAUGHT On VIDEO Hugging Racist Hate Preache…',\n",
       " \"RT @chuckwoolery: ANOTHER EXAMPLE AMONG MANY Students Hate Quotes from Trump's State of the Union, Until Realizing They Are Obama's - Breit…\",\n",
       " 'RT @cavdistSam: The Super Bowl had more viewers than trump had for his State of the Union',\n",
       " 'RT @AMike4761: JUST IN: SIX BLACK CAUCUS DEMOCRATS Boycotting Trump’s State of the Union Speech CAUGHT On VIDEO Hugging Racist Hate Preache…',\n",
       " 'RT @austinhilvert: mine was this year’s State of the Union https://t.co/N6KJnkQ73z',\n",
       " 'RT @mikandynothem: First, President Trump hits a home run with his State of the Union speech. Then the #NunesMemo reveals the failed coup d…',\n",
       " \"RT @clayfeathers: Poor students brainwashed by their Lib teachers! \\nStudents Hate Quotes from Trump's State of the Union, Until Realizing T…\",\n",
       " \"RT @syeddoha: Let's begin today by recognizing that #Trumpers and #Jingoism codenamed as #AmericaFirst has put the #US in 3rd place in the…\",\n",
       " 'RT @OmarAslamLugo: 1/20 Remember when Supreme Court Justice Alito broke decorum to shake his head &amp; mumble \"not true\" at Obama\\'s 27Jan2010…',\n",
       " 'Students Hate Quotes from Trump’s State of the Union, Until Realizing They Are Obama’s\\n@BreitbartNews\\u200d\\xa0\\n#GabFam… https://t.co/1bMkcthO6m',\n",
       " 'RT @perfectsliders: How do you feel about #Trump after the State of the Union? #SOTU',\n",
       " 'RT @mikandynothem: First, President Trump hits a home run with his State of the Union speech. Then the #NunesMemo reveals the failed coup d…',\n",
       " 'RT @OmarAslamLugo: 1/20 Remember when Supreme Court Justice Alito broke decorum to shake his head &amp; mumble \"not true\" at Obama\\'s 27Jan2010…',\n",
       " 'RT @AMike4761: JUST IN: SIX BLACK CAUCUS DEMOCRATS Boycotting Trump’s State of the Union Speech CAUGHT On VIDEO Hugging Racist Hate Preache…',\n",
       " 'RT @tedlieu: In America, we value family. My mom, dad &amp; brother are part of the family. But in the 2018 State of the Union, @realDonaldTrum…',\n",
       " 'RT @AMike4761: JUST IN: SIX BLACK CAUCUS DEMOCRATS Boycotting Trump’s State of the Union Speech CAUGHT On VIDEO Hugging Racist Hate Preache…',\n",
       " 'Of course, the one issue he failed to tackle head-on was the allegation... https://t.co/1Q6QxN5o2B',\n",
       " 'RT @PressSec: Americans loved @realDonaldTrump State of the Union - “optimistic,” “hopeful,” “inspiring.” \\n\\nhttps://t.co/TOb3dscOxF',\n",
       " \"Students Hate Quotes from Trump's State of the Union, Until Realizing They Are Obama's - Breitbart… https://t.co/AAmB3ZTRwF\",\n",
       " \"RT @krassenstein: Trump:  My State of the Union Had the Most Viewers Ever!\\n\\nApparently he's no good at simple arithmetic:\\n\\n45.6 million  -…\",\n",
       " 'RT @AMike4761: JUST IN: SIX BLACK CAUCUS DEMOCRATS Boycotting Trump’s State of the Union Speech CAUGHT On VIDEO Hugging Racist Hate Preache…',\n",
       " 'RT @PressSec: Americans loved @realDonaldTrump State of the Union - “optimistic,” “hopeful,” “inspiring.” \\n\\nhttps://t.co/TOb3dscOxF',\n",
       " 'RT @vnuek: The Washington Post Saw a Call for Bipartisanship In Trumps State of the Union Address. Where? https://t.co/AUWD7P2fNt',\n",
       " 'WATCH: Bernie Sanders delivers Trump State of the Union rebuttal https://t.co/yZKZCBeYe7  |||',\n",
       " 'RT @PoliticalShort: North Korea defector Ji Seong-ho, who was honored by President Trump at the State of the Union Tuesday, describes the d…',\n",
       " \"RT @clayfeathers: Poor students brainwashed by their Lib teachers! \\nStudents Hate Quotes from Trump's State of the Union, Until Realizing T…\",\n",
       " \"RT @RevoltPolitic: Head on over to https://t.co/7rKzm7qat2  to watch Bernie Sanders give his rebuttal to Trump's State of the Union. #SOTU…\",\n",
       " \"RT @syeddoha: Let's begin today by recognizing that #Trumpers and #Jingoism codenamed as #AmericaFirst has put the #US in 3rd place in the…\",\n",
       " \"RT @Streamdotorg: Poll: 81% of Americans thought @POTUS' #SOTU address was about uniting the country, not dividing it https://t.co/RMyIIS01…\",\n",
       " 'RT @D_Alex_connect: Students hate quotes from Trump’s State of the Union, unanimously describing them as “warmongering” “aggressive” “immat…',\n",
       " 'RT @AmericanPlush: @jaketapper Fox News Leaves CNN and MSNBC in the DUST! Ratings! https://t.co/JDKYkGbzKD…\\n\\nFOX MARKED THE HIGHEST-RATED S…',\n",
       " 'RT @mikandynothem: First, President Trump hits a home run with his State of the Union speech. Then the #NunesMemo reveals the failed coup d…',\n",
       " 'RT @JimCarrey: STATE OF THE UNION https://t.co/PotdNCvYCX',\n",
       " \"Students Hate Quotes from Trump's State of the Union, Until Realizing They Are Obama's - Breitbart… https://t.co/VaZAIMM4mv\",\n",
       " 'RT @PressSec: Americans loved @realDonaldTrump State of the Union - “optimistic,” “hopeful,” “inspiring.” \\n\\nhttps://t.co/TOb3dscOxF',\n",
       " \"RT @LarrySabato: JUST IN: Audience figures for #SuperBowlLll set an all-time TV record--except for the 10 billion who watched Trump's State…\",\n",
       " 'RT @grabigel: @NancyPelosi I am a Democrat and I am so disappointed in what you say and do.  Especially the State of the Union speech.  We…',\n",
       " 'RT @realDonaldTrump: The State Of The Union speech was one of the most boring, rambling and non-substantive I have heard in a long time. Ne…',\n",
       " \"RT @perfectsliders: Rush #Limbaugh says Trumps state of the union speech was the best #sotu he has ever seen. .  He's 67 years old and has…\",\n",
       " 'Live coverage: Trump&amp;apos;s State of the Union address',\n",
       " \"RT @chuckwoolery: ANOTHER EXAMPLE AMONG MANY Students Hate Quotes from Trump's State of the Union, Until Realizing They Are Obama's - Breit…\",\n",
       " 'RT @OmarAslamLugo: 1/20 Remember when Supreme Court Justice Alito broke decorum to shake his head &amp; mumble \"not true\" at Obama\\'s 27Jan2010…',\n",
       " 'RT @CNN: The US legal marijuana industry is growing state by state, adding businesses, jobs and revenue https://t.co/bFCbZTJi3x https://t.c…',\n",
       " 'RT @mikandynothem: First, President Trump hits a home run with his State of the Union speech. Then the #NunesMemo reveals the failed coup d…',\n",
       " 'RT @ExDemLatina: Dear Democrats: \\n\\nYour performance at the State of the Union address was disgraceful!!! At this point I’m just trying to f…',\n",
       " \"RT @clayfeathers: Poor students brainwashed by their Lib teachers! \\nStudents Hate Quotes from Trump's State of the Union, Until Realizing T…\",\n",
       " 'I feel about the super bowl the way a lot of people felt about the state of the union: performatively ambivalent bu… https://t.co/ZxXzfqUxwX',\n",
       " 'RT @AMike4761: JUST IN: SIX BLACK CAUCUS DEMOCRATS Boycotting Trump’s State of the Union Speech CAUGHT On VIDEO Hugging Racist Hate Preache…',\n",
       " 'RT @PressSec: Americans loved @realDonaldTrump State of the Union - “optimistic,” “hopeful,” “inspiring.” \\n\\nhttps://t.co/TOb3dscOxF',\n",
       " 'RT @CNN: The US legal marijuana industry is growing state by state, adding businesses, jobs and revenue https://t.co/bFCbZTJi3x https://t.c…',\n",
       " \"RT @thehill: WATCH: SNL's Melania Trump gets advice from former first ladies ahead of the State of the Union https://t.co/SpIHpKiEIL https:…\",\n",
       " \"RT @Daisy49103: 🇺🇸🇺🇸🇺🇸🇺🇸🇺🇸President Trump's \\n'State Of The Union' Speech is taking place right now. He is rocking that room and the United…\",\n",
       " 'RT @realDonaldTrump: Thank you for all of the nice compliments and reviews on the State of the Union speech. 45.6 million people watched, t…',\n",
       " 'Trump&amp;apos;s first State of the Union vs. Obama&amp;apos;s: By the numbers',\n",
       " 'The State of the Union: Morally Dead and Leaving Vulnerable Children Behind @griffinblvd  https://t.co/feOrumQul9',\n",
       " \"RT @syeddoha: Let's begin today by recognizing that #Trumpers and #Jingoism codenamed as #AmericaFirst has put the #US in 3rd place in the…\",\n",
       " \"Students Hate Quotes from Trump's State of the Union, Until Realizing They Are Obama's - Breitbart… https://t.co/nnGbI513nu\",\n",
       " \"RT @HuffPost: Trump's first State of the Union address was...\",\n",
       " \"Students Hate Quotes from Trump's State of the Union, Until Realizing They Are Obama's - Breitbart https://t.co/NlPtVn2lgD\",\n",
       " 'RT @AMike4761: JUST IN: SIX BLACK CAUCUS DEMOCRATS Boycotting Trump’s State of the Union Speech CAUGHT On VIDEO Hugging Racist Hate Preache…',\n",
       " 'RT @AMike4761: JUST IN: SIX BLACK CAUCUS DEMOCRATS Boycotting Trump’s State of the Union Speech CAUGHT On VIDEO Hugging Racist Hate Preache…',\n",
       " 'RT @realDonaldTrump: Thank you for all of the nice compliments and reviews on the State of the Union speech. 45.6 million people watched, t…',\n",
       " 'RT @CNN: Sen. Dick Durbin says if President Trump uses the Nunes memo to fire Deputy Attorney General Rod Rosenstein or special counsel Rob…',\n",
       " 'RT @CNN: The US legal marijuana industry is growing state by state, adding businesses, jobs and revenue https://t.co/bFCbZTJi3x https://t.c…',\n",
       " 'RT @AMike4761: JUST IN: SIX BLACK CAUCUS DEMOCRATS Boycotting Trump’s State of the Union Speech CAUGHT On VIDEO Hugging Racist Hate Preache…',\n",
       " \"Students Hate Quotes from Trump's State of the Union, Until Realizing They Are Obama's - Breitbart… https://t.co/cKSBdywtg3\",\n",
       " \"RT @HuffPost: Trump's first State of the Union address was...\",\n",
       " 'RT @CNN: The US legal marijuana industry is growing state by state, adding businesses, jobs and revenue https://t.co/bFCbZTJi3x https://t.c…',\n",
       " 'Forget About It https://t.co/ap19a0LnPQ',\n",
       " 'The Washington Post Saw a Call for Bipartisanship In Trumps State of the Union Address. Where? https://t.co/b0yrMXvtuH',\n",
       " \"RT @Daisy49103: 🔴🔵🔴🔵🔴🔵\\n🔴🔵Unity🔴🔵\\n Donald Trump Jr.: Democrats wanted to stand and applaud Trump during State of the Union, but 'the derange…\",\n",
       " \"N. Korea slams Trump's 'sinister' State of the Union address https://t.co/Vv6CM4gv3E via @YahooNews\",\n",
       " 'RT @RealErinCruz: CELEBRATING THE STATE OF THE UNION: https://t.co/aybR40tvFX via @YouTube',\n",
       " 'At the end of the day, do we really understand the art of manufacturing? https://t.co/zq75VFDUqK https://t.co/q9fliKdqR1',\n",
       " \"RT @syeddoha: Let's begin today by recognizing that #Trumpers and #Jingoism codenamed as #AmericaFirst has put the #US in 3rd place in the…\",\n",
       " 'RT @WashTimes: \"Here are at least some of the small-minded in the Democratic Party camp who’ve opted out of the address: Reps. @repjohnlewi…',\n",
       " \"RT @HuffPost: Trump's first State of the Union address was...\",\n",
       " 'RT @AMike4761: JUST IN: SIX BLACK CAUCUS DEMOCRATS Boycotting Trump’s State of the Union Speech CAUGHT On VIDEO Hugging Racist Hate Preache…',\n",
       " 'RT @mikandynothem: First, President Trump hits a home run with his State of the Union speech. Then the #NunesMemo reveals the failed coup d…',\n",
       " \"RT @clayfeathers: Poor students brainwashed by their Lib teachers! \\nStudents Hate Quotes from Trump's State of the Union, Until Realizing T…\",\n",
       " 'RT @BreitbartNews: Every. Time. https://t.co/PxpzUqTaIv']"
      ]
     },
     "execution_count": 19,
     "metadata": {},
     "output_type": "execute_result"
    }
   ],
   "source": [
    "unionTexts[0:100]"
   ]
  },
  {
   "cell_type": "code",
   "execution_count": 17,
   "metadata": {},
   "outputs": [
    {
     "data": {
      "text/plain": [
       "113"
      ]
     },
     "execution_count": 17,
     "metadata": {},
     "output_type": "execute_result"
    }
   ],
   "source": []
  },
  {
   "cell_type": "code",
   "execution_count": 3,
   "metadata": {},
   "outputs": [
    {
     "name": "stdout",
     "output_type": "stream",
     "text": [
      "94\n",
      "194\n",
      "294\n",
      "394\n",
      "494\n",
      "594\n",
      "693\n",
      "786\n",
      "867\n",
      "965\n",
      "1060\n",
      "1160\n",
      "1256\n",
      "1356\n",
      "1450\n",
      "1550\n",
      "1650\n",
      "1750\n",
      "1850\n",
      "1950\n",
      "2050\n",
      "2150\n",
      "2250\n",
      "2350\n",
      "2450\n",
      "2550\n",
      "2650\n",
      "2750\n",
      "2850\n",
      "2950\n",
      "3050\n",
      "3150\n",
      "3250\n",
      "3350\n",
      "3450\n",
      "3550\n",
      "3650\n",
      "3750\n",
      "3850\n",
      "3950\n",
      "4050\n",
      "4150\n",
      "4250\n",
      "4350\n",
      "4450\n",
      "4550\n",
      "4650\n",
      "4750\n",
      "4850\n",
      "4946\n"
     ]
    }
   ],
   "source": [
    "from time import sleep\n",
    "result = []\n",
    "maxId = 979357521776578561\n",
    "for i in range(50):\n",
    "    currStatuses = twitter.api.search(q='state of the union', lang='en', count=100, max_id=maxId)['statuses']\n",
    "#   get curr max id\n",
    "    maxId = min(list(map(lambda x:x['id'], currStatuses)))\n",
    "    result += currStatuses\n",
    "    print(len(result))\n",
    "    sleep(5)"
   ]
  },
  {
   "cell_type": "code",
   "execution_count": 11,
   "metadata": {},
   "outputs": [
    {
     "data": {
      "text/plain": [
       "479"
      ]
     },
     "execution_count": 11,
     "metadata": {},
     "output_type": "execute_result"
    }
   ],
   "source": [
    "uniqueTexts = list(set(twitter.get_texts(result)))\n",
    "uniqueTexts = list(map(lambda x:twitter.clean_text(x), uniqueTexts))\n",
    "len(uniqueTexts)"
   ]
  },
  {
   "cell_type": "code",
   "execution_count": 6,
   "metadata": {},
   "outputs": [
    {
     "name": "stdout",
     "output_type": "stream",
     "text": [
      "300\n",
      "600\n",
      "900\n",
      "1200\n",
      "1500\n",
      "1800\n",
      "2100\n",
      "2400\n",
      "2700\n",
      "3000\n",
      "3300\n",
      "3600\n",
      "3900\n",
      "4200\n",
      "4500\n",
      "4800\n",
      "5100\n",
      "5400\n",
      "5700\n",
      "6000\n"
     ]
    }
   ],
   "source": [
    "result = []\n",
    "maxId1 = 979357521776578561\n",
    "maxId2 = 979357521776578561\n",
    "maxId3 = 979357521776578561\n",
    "for i in range(20):\n",
    "    currStatuses1 = twitter.api.search(q='super bowl', lang='en', count=100, max_id=maxId1)['statuses']\n",
    "    currStatuses2 = twitter.api.search(q='music', lang='en', count=100, max_id=maxId2)['statuses']\n",
    "    currStatuses3 = twitter.api.search(q='Jurassic World', lang='en', count=100, max_id=maxId3)['statuses']\n",
    "#   get curr max id\n",
    "    maxId1 = min(list(map(lambda x:x['id'], currStatuses)))\n",
    "    maxId2 = min(list(map(lambda x:x['id'], currStatuses)))\n",
    "    maxId3 = min(list(map(lambda x:x['id'], currStatuses)))\n",
    "    result += currStatuses1\n",
    "    result += currStatuses2\n",
    "    result += currStatuses3\n",
    "    print(len(result))\n",
    "    sleep(5)"
   ]
  },
  {
   "cell_type": "code",
   "execution_count": 12,
   "metadata": {},
   "outputs": [
    {
     "data": {
      "text/plain": [
       "479"
      ]
     },
     "execution_count": 12,
     "metadata": {},
     "output_type": "execute_result"
    }
   ],
   "source": [
    "noises = list(set(twitter.get_texts(result)))\n",
    "noises = list(map(lambda x:twitter.clean_text(x), noises))\n",
    "len(noises)"
   ]
  },
  {
   "cell_type": "code",
   "execution_count": 36,
   "metadata": {},
   "outputs": [],
   "source": [
    "import json\n",
    "outputJson = json.dumps({'texts': tuple(uniqueTexts)})\n",
    "outputJson\n",
    "f = open('texts.json', 'w')\n",
    "f.write(outputJson)\n",
    "f.close()"
   ]
  },
  {
   "cell_type": "code",
   "execution_count": 35,
   "metadata": {},
   "outputs": [
    {
     "ename": "TypeError",
     "evalue": "dump() missing 1 required positional argument: 'fp'",
     "output_type": "error",
     "traceback": [
      "\u001b[0;31m---------------------------------------------------------------------------\u001b[0m",
      "\u001b[0;31mTypeError\u001b[0m                                 Traceback (most recent call last)",
      "\u001b[0;32m<ipython-input-35-bea5256d8c78>\u001b[0m in \u001b[0;36m<module>\u001b[0;34m()\u001b[0m\n\u001b[0;32m----> 1\u001b[0;31m \u001b[0mtwitter\u001b[0m\u001b[0;34m.\u001b[0m\u001b[0msave_to_json\u001b[0m\u001b[0;34m(\u001b[0m\u001b[0;34m{\u001b[0m\u001b[0;34m'texts'\u001b[0m\u001b[0;34m:\u001b[0m\u001b[0mtuple\u001b[0m\u001b[0;34m(\u001b[0m\u001b[0muniqueTexts\u001b[0m\u001b[0;34m)\u001b[0m\u001b[0;34m}\u001b[0m\u001b[0;34m,\u001b[0m \u001b[0;34m'texts.json'\u001b[0m\u001b[0;34m)\u001b[0m\u001b[0;34m\u001b[0m\u001b[0m\n\u001b[0m",
      "\u001b[0;32m~/work/twitter-api-wrapper/twitter.py\u001b[0m in \u001b[0;36msave_to_json\u001b[0;34m(dict, name)\u001b[0m\n\u001b[1;32m     35\u001b[0m \u001b[0;34m\u001b[0m\u001b[0m\n\u001b[1;32m     36\u001b[0m \u001b[0;32mdef\u001b[0m \u001b[0msave_to_json\u001b[0m\u001b[0;34m(\u001b[0m\u001b[0mdict\u001b[0m\u001b[0;34m,\u001b[0m \u001b[0mname\u001b[0m\u001b[0;34m)\u001b[0m\u001b[0;34m:\u001b[0m\u001b[0;34m\u001b[0m\u001b[0m\n\u001b[0;32m---> 37\u001b[0;31m     \u001b[0moutput\u001b[0m \u001b[0;34m=\u001b[0m \u001b[0mjson\u001b[0m\u001b[0;34m.\u001b[0m\u001b[0mdumps\u001b[0m\u001b[0;34m(\u001b[0m\u001b[0mdict\u001b[0m\u001b[0;34m)\u001b[0m\u001b[0;34m\u001b[0m\u001b[0m\n\u001b[0m\u001b[1;32m     38\u001b[0m     \u001b[0mf\u001b[0m \u001b[0;34m=\u001b[0m \u001b[0mopen\u001b[0m\u001b[0;34m(\u001b[0m\u001b[0mname\u001b[0m\u001b[0;34m,\u001b[0m \u001b[0;34m'w'\u001b[0m\u001b[0;34m)\u001b[0m\u001b[0;34m\u001b[0m\u001b[0m\n\u001b[1;32m     39\u001b[0m     \u001b[0mf\u001b[0m\u001b[0;34m.\u001b[0m\u001b[0mwrite\u001b[0m\u001b[0;34m(\u001b[0m\u001b[0moutput\u001b[0m\u001b[0;34m)\u001b[0m\u001b[0;34m\u001b[0m\u001b[0m\n",
      "\u001b[0;31mTypeError\u001b[0m: dump() missing 1 required positional argument: 'fp'"
     ]
    }
   ],
   "source": [
    "twitter.save_to_json({'texts':tuple(uniqueTexts)}, 'texts.json')"
   ]
  },
  {
   "cell_type": "code",
   "execution_count": 6,
   "metadata": {},
   "outputs": [
    {
     "data": {
      "text/plain": [
       "{'contributors': None,\n",
       " 'coordinates': None,\n",
       " 'created_at': 'Fri Feb 02 09:27:15 +0000 2018',\n",
       " 'entities': {'hashtags': [],\n",
       "  'symbols': [],\n",
       "  'urls': [{'display_url': 'ift.tt/2BIUgBK',\n",
       "    'expanded_url': 'http://ift.tt/2BIUgBK',\n",
       "    'indices': [55, 78],\n",
       "    'url': 'https://t.co/X571X6he75'},\n",
       "   {'display_url': 'twitter.com/i/web/status/9…',\n",
       "    'expanded_url': 'https://twitter.com/i/web/status/959357535361871873',\n",
       "    'indices': [99, 122],\n",
       "    'url': 'https://t.co/ThTI0M0xAo'}],\n",
       "  'user_mentions': []},\n",
       " 'favorite_count': 0,\n",
       " 'favorited': False,\n",
       " 'geo': None,\n",
       " 'id': 959357535361871873,\n",
       " 'id_str': '959357535361871873',\n",
       " 'in_reply_to_screen_name': None,\n",
       " 'in_reply_to_status_id': None,\n",
       " 'in_reply_to_status_id_str': None,\n",
       " 'in_reply_to_user_id': None,\n",
       " 'in_reply_to_user_id_str': None,\n",
       " 'is_quote_status': False,\n",
       " 'lang': 'en',\n",
       " 'metadata': {'iso_language_code': 'en', 'result_type': 'recent'},\n",
       " 'place': None,\n",
       " 'possibly_sensitive': False,\n",
       " 'retweet_count': 0,\n",
       " 'retweeted': False,\n",
       " 'source': '<a href=\"https://ifttt.com\" rel=\"nofollow\">IFTTT</a>',\n",
       " 'text': 'Trump’s State of the Union Told a Great American Lie - https://t.co/X571X6he75 by RO Water Filter… https://t.co/ThTI0M0xAo',\n",
       " 'truncated': True,\n",
       " 'user': {'contributors_enabled': False,\n",
       "  'created_at': 'Thu Jan 29 09:42:54 +0000 2015',\n",
       "  'default_profile': True,\n",
       "  'default_profile_image': False,\n",
       "  'description': 'Penis Enlargement Bible (original, PDF download) https://t.co/T9Evy2GlVD',\n",
       "  'entities': {'description': {'urls': [{'display_url': 'sellfy.com/p/KemB/',\n",
       "      'expanded_url': 'https://sellfy.com/p/KemB/',\n",
       "      'indices': [49, 72],\n",
       "      'url': 'https://t.co/T9Evy2GlVD'}]},\n",
       "   'url': {'urls': [{'display_url': 'sellfy.com/p/KemB/',\n",
       "      'expanded_url': 'https://sellfy.com/p/KemB/',\n",
       "      'indices': [0, 23],\n",
       "      'url': 'https://t.co/T9Evy2GlVD'}]}},\n",
       "  'favourites_count': 35,\n",
       "  'follow_request_sent': False,\n",
       "  'followers_count': 51,\n",
       "  'following': False,\n",
       "  'friends_count': 272,\n",
       "  'geo_enabled': False,\n",
       "  'has_extended_profile': False,\n",
       "  'id': 3000920418,\n",
       "  'id_str': '3000920418',\n",
       "  'is_translation_enabled': False,\n",
       "  'is_translator': False,\n",
       "  'lang': 'en',\n",
       "  'listed_count': 4,\n",
       "  'location': 'USA',\n",
       "  'name': 'Lucky',\n",
       "  'notifications': False,\n",
       "  'profile_background_color': 'C0DEED',\n",
       "  'profile_background_image_url': 'http://abs.twimg.com/images/themes/theme1/bg.png',\n",
       "  'profile_background_image_url_https': 'https://abs.twimg.com/images/themes/theme1/bg.png',\n",
       "  'profile_background_tile': False,\n",
       "  'profile_banner_url': 'https://pbs.twimg.com/profile_banners/3000920418/1454418168',\n",
       "  'profile_image_url': 'http://pbs.twimg.com/profile_images/694505468601827328/pNQ72eTb_normal.jpg',\n",
       "  'profile_image_url_https': 'https://pbs.twimg.com/profile_images/694505468601827328/pNQ72eTb_normal.jpg',\n",
       "  'profile_link_color': '1DA1F2',\n",
       "  'profile_sidebar_border_color': 'C0DEED',\n",
       "  'profile_sidebar_fill_color': 'DDEEF6',\n",
       "  'profile_text_color': '333333',\n",
       "  'profile_use_background_image': True,\n",
       "  'protected': False,\n",
       "  'screen_name': 'melucky873',\n",
       "  'statuses_count': 53327,\n",
       "  'time_zone': None,\n",
       "  'translator_type': 'none',\n",
       "  'url': 'https://t.co/T9Evy2GlVD',\n",
       "  'utc_offset': None,\n",
       "  'verified': False}}"
      ]
     },
     "execution_count": 6,
     "metadata": {},
     "output_type": "execute_result"
    }
   ],
   "source": [
    "from functools import reduce\n",
    "concat_list = reduce(lambda x,y: x+y, result)\n",
    "concat_list[0]['id']"
   ]
  },
  {
   "cell_type": "code",
   "execution_count": 15,
   "metadata": {
    "scrolled": true
   },
   "outputs": [
    {
     "name": "stdout",
     "output_type": "stream",
     "text": [
      "959357535361871873\n",
      "959357521776578561\n"
     ]
    }
   ],
   "source": [
    "print(concat_list[0]['id'])\n",
    "print(concat_list[1]['id'])"
   ]
  },
  {
   "cell_type": "code",
   "execution_count": 17,
   "metadata": {},
   "outputs": [],
   "source": [
    "testResult = twitter.api.search(q='state of the union', count=100, lang='en', max_id=959357521776578561)"
   ]
  },
  {
   "cell_type": "code",
   "execution_count": 18,
   "metadata": {},
   "outputs": [
    {
     "data": {
      "text/plain": [
       "959357521776578561"
      ]
     },
     "execution_count": 18,
     "metadata": {},
     "output_type": "execute_result"
    }
   ],
   "source": [
    "max(list(map(lambda x:x['id'], testResult['statuses'])))"
   ]
  },
  {
   "cell_type": "code",
   "execution_count": 10,
   "metadata": {},
   "outputs": [
    {
     "data": {
      "text/plain": [
       "87"
      ]
     },
     "execution_count": 10,
     "metadata": {},
     "output_type": "execute_result"
    }
   ],
   "source": [
    "texts = twitter.get_texts(concat_list)\n",
    "texts = list(set(texts))\n",
    "len(texts)"
   ]
  },
  {
   "cell_type": "code",
   "execution_count": 9,
   "metadata": {},
   "outputs": [
    {
     "data": {
      "text/plain": [
       "['RT @ElderLansing: Please @JoyAnnReid since you and other Libnuts love crunching the numbers please tell me how many tuned in for Crooked Hi…',\n",
       " 'RT @thehill: JUST IN: Trump wrongly claims his State of the Union was the most-watched in history https://t.co/i1WWU7FmzT https://t.co/AItq…',\n",
       " \"RT @Pink_About_it: The difference between Obama's state of the union was to shame people into thinking America isn't great--\\n\\nTrump's highl…\",\n",
       " 'RT @Papatul: At the State of the Union speech in 2018, when informed that black unemployment was at an all time low, the Black Caucus sat o…',\n",
       " 'RT @HealthCareVoter: We know the state of our union is STRONGER because Health Care Voters came together to push back against #ACA repeal a…',\n",
       " \"RT @polishprincessh: How about my letter to the Speaker:\\n\\nDear Speaker Ryan:\\n\\nCongressperson Pelosi's &amp; Schumer deliberate disrespectful ac…\",\n",
       " 'RT @SaysHummingbird: Trump LIED about number of viewers for State of the Union, claiming it is \"the most-watched in history\" in embarrassin…',\n",
       " 'RT @realDonaldTrump: Thank you for all of the nice compliments and reviews on the State of the Union speech. 45.6 million people watched, t…',\n",
       " 'The Polluted State of the Union  https://t.co/0scO3d73Mv',\n",
       " \"RT @byrdinator: Trump's $1.5 trillion infrastructure plan includes only $200 billion in federal dollars, and lacks pay-fors. I talked to la…\",\n",
       " 'RT @Shareblue: Trump lies about TV ratings for State of the Union in embarrassing morning melt down https://t.co/Br6X71oi4T',\n",
       " '@thedoggeneral1 @realDonaldTrump @FoxNews Obama’s last state of the union got less than 40 million viewers.,,',\n",
       " 'RT @Lawrence: Mueller’s 1st question to Trump should be how many people watched your State of the Union speech.',\n",
       " 'RT @matthewjdowd: So the President says the NFL ratings were down because players weren’t patriots as they knelt during anthem, so then wha…',\n",
       " 'RT @OANN: #RT @GrahamLedger: Disgraceful. Reading texts, messing with Twitter and playing Candy Crush by Democrats during the State of the…',\n",
       " 'RT @MSNBC: Fact Check: Pres. Trump tweeted this morning that viewership for his first State of the Union was “the highest number in history…',\n",
       " \"RT @krassenstein: Trump:  My State of the Union Had the Most Viewers Ever!\\n\\nApparently he's no good at simple arithmetic:\\n\\n45.6 million  -…\",\n",
       " 'RT @matthewjdowd: So the President says the NFL ratings were down because players weren’t patriots as they knelt during anthem, so then wha…',\n",
       " 'RT @Lawrence: Mueller’s 1st question to Trump should be how many people watched your State of the Union speech.',\n",
       " 'RT @AnnCoulter: WHOA!  Fast-moving Republican train smashed into dump truck sitting on tracks yesterday.  I thought they were talking about…',\n",
       " 'RT @JamesGunn: How stupid do you think we are, and how is such obvious and outright lying this easy to anyone? Obama State of the Union, 20…',\n",
       " 'RT @realDonaldTrump: Thank you for all of the nice compliments and reviews on the State of the Union speech. 45.6 million people watched, t…',\n",
       " \"RT @mmpadellan: Nice job, Tweeps!\\n\\nBy staying away in droves from the fantasy fest that was trump's State of the Union, you've helped him h…\",\n",
       " \"RT @grantstern: #SOTU Black Tuesday Sale\\n\\n@SpeakerRyan broke House Rules allowing Trump to use the chamber's official #SOTU2018 video feed…\",\n",
       " 'RT @tedlieu: One way to look at this #SOTU numbers tweet is that @FoxNewsResearch is trolling @realDonaldTrump and pointing out his lie.\\n\\nI…',\n",
       " \"RT @krassenstein: Trump:  My State of the Union Had the Most Viewers Ever!\\n\\nApparently he's no good at simple arithmetic:\\n\\n45.6 million  -…\",\n",
       " 'RT @ElderLansing: Please @JoyAnnReid since you and other Libnuts love crunching the numbers please tell me how many tuned in for Crooked Hi…',\n",
       " 'RT @BarbraStreisand: While using both heroes and victims as backdrops in his reality TV State of the Union, Trump claimed many accomplishme…',\n",
       " 'RT @thehill: GOP lawmaker defends inviting alt-right activist who has denied Holocaust to State of the Union https://t.co/wTfmDpruqO https:…',\n",
       " \"RT @polishprincessh: How about my letter to the Speaker:\\n\\nDear Speaker Ryan:\\n\\nCongressperson Pelosi's &amp; Schumer deliberate disrespectful ac…\",\n",
       " 'Donald Trump accused of lying over ‘record’ State of the Union viewers | The New Daily https://t.co/WsyFuXR4mK',\n",
       " 'RT @AnnCoulter: WHOA!  Fast-moving Republican train smashed into dump truck sitting on tracks yesterday.  I thought they were talking about…',\n",
       " 'RT @ChristianBliven: What grade would you give President Trump’s first State of the Union?',\n",
       " 'RT @jasoninthehouse: .#Rude #Disrespect Democrat played CANDY CRUSH during State of the Union | Daily Mail Online https://t.co/uAeDgn9y1j',\n",
       " 'RT @ddale8: Obama’s, Bush’s and Clinton’s first State of the Union all had higher ratings than this. Ratings lying is one of Trump’s oldest…',\n",
       " \"RT @RedAlert: Trump's State of the Union can inspire the next generation of public servants https://t.co/XtWCMRHSOL https://t.co/x0iCgc07ty\",\n",
       " 'RT @jaketapper: Fewer viewers than the first SOTU’s for Obama in 2010, Bush in 2002, Clinton in 1994.\\n\\n“Which means Trump’s initial SOTU, t…',\n",
       " 'RT @ElderLansing: Please @JoyAnnReid since you and other Libnuts love crunching the numbers please tell me how many tuned in for Crooked Hi…',\n",
       " 'RT @WhiteHouse: \"In his first State of the Union speech, President Trump did exactly what he needed to: He gave a magnificent speech that w…',\n",
       " 'RT @RealJack: This isn’t getting the attention it deserves. 🔥\\n\\nA USA chant broke out last night in the chamber during President Trump’s Sta…',\n",
       " 'RT @ananavarro: I realized listening to Trump read his State of the Union, I don’t trust one word that man utters. I was unmoved by all of…',\n",
       " 'RT @realDonaldTrump: Thank you for all of the nice compliments and reviews on the State of the Union speech. 45.6 million people watched, t…',\n",
       " 'RT @Lawrence: Mueller’s 1st question to Trump should be how many people watched your State of the Union speech.',\n",
       " \"RT @mmpadellan: Nice job, Tweeps!\\n\\nBy staying away in droves from the fantasy fest that was trump's State of the Union, you've helped him h…\",\n",
       " 'RT @realDonaldTrump: Thank you for all of the nice compliments and reviews on the State of the Union speech. 45.6 million people watched, t…',\n",
       " 'RT @NBCNews: President Trump tweeted that viewership for his first State of the Union was “the highest number in history.”\\n\\nAccording to th…',\n",
       " 'RT @ringoffireradio: As Expected, Trump Lies About Size Of State Of The Union Audience @farronbalanced https://t.co/ONJkIvjqJE',\n",
       " 'RT @realDonaldTrump: Thank you for all of the nice compliments and reviews on the State of the Union speech. 45.6 million people watched, t…',\n",
       " 'RT @denvernight: #BREAKING STATE OF THE UNION 2018: IRREFUTABLE PROOF OF DEMOCRATS HATRED OF AMERICA AND CITIZENS #SOTU #WednesdayWi… https…',\n",
       " \"Idiots React to Trump's State of the Union https://t.co/1rjiloBBuI\",\n",
       " 'RT @dialecticsite: On Tuesday night, President Trump delivered the State of the Union. He looked back and forward. Our Staff Writers react:…',\n",
       " 'Trump Just Falsely Claimed He Had A Historically Huge Audience. Again. https://t.co/tvopRqmaWM',\n",
       " 'RT @AnnCoulter: WHOA!  Fast-moving Republican train smashed into dump truck sitting on tracks yesterday.  I thought they were talking about…',\n",
       " 'RT @ProudResister: Exposing Trump’s lies is important because he lies about the little things like today when he said his State of the Unio…',\n",
       " \"RT @krassenstein: Trump:  My State of the Union Had the Most Viewers Ever!\\n\\nApparently he's no good at simple arithmetic:\\n\\n45.6 million  -…\",\n",
       " 'RT @ElderLansing: Please @JoyAnnReid since you and other Libnuts love crunching the numbers please tell me how many tuned in for Crooked Hi…',\n",
       " 'RT @jaketapper: Fewer viewers than the first SOTU’s for Obama in 2010, Bush in 2002, Clinton in 1994.\\n\\n“Which means Trump’s initial SOTU, t…',\n",
       " 'RT @realDonaldTrump: Thank you for all of the nice compliments and reviews on the State of the Union speech. 45.6 million people watched, t…',\n",
       " 'RT @Lawrence: Mueller’s 1st question to Trump should be how many people watched your State of the Union speech.',\n",
       " 'RT @ddale8: Obama’s, Bush’s and Clinton’s first State of the Union all had higher ratings than this. Ratings lying is one of Trump’s oldest…',\n",
       " \"RT @MorningEdition: Nielsen reported Wednesday that an estimated 45.6 million people tuned in to President Trump's State of the Union on Tu…\",\n",
       " 'RT @dcexaminer: Michigan Democrat played Candy Crush during State of the Union https://t.co/jMevr4hn1r by @emilyjashinsky https://t.co/jmKf…',\n",
       " 'RT @SenSanders: I know you might be shocked to hear this, but Trump got quite a number of things wrong last night in his State of the Union…',\n",
       " 'RT @FLOTUS: Last night I was surrounded by a wonderful group of guests for the State of the Union. It was a privilege to meet them and hear…',\n",
       " \"Donald Trump lied about his State of the Union ratings. Whyyyyyyyy? @CNNPolitics https://t.co/LR8knQouQM  Because he's a wanker.\",\n",
       " 'RT @Lawrence: Mueller’s 1st question to Trump should be how many people watched your State of the Union speech.',\n",
       " 'RT @JohnJHarwood: Pew poll on whether govt should help poor people more:\\nRs earning under $40K: 47% yes\\nRs earning over $75K: 28% yes\\nhttps…',\n",
       " \"RT @roriIZfunny: @realDonaldTrump @FoxNews Trump:  My State of the Union Had the Most Viewers Ever!\\n\\nApparently he's no good at simple arit…\",\n",
       " 'RT @SaysHummingbird: Trump embarrassed as first State of the Union falls 8 million viewers short of Obama’s.\\n\\nCC: @realDonaldTrump 😂😂😂\\n\\nhtt…',\n",
       " 'RT @SenSanders: I know you might be shocked to hear this, but Trump got quite a number of things wrong last night in his State of the Union…',\n",
       " 'OK fine but stop wearing white to important functions like the state of the union address and the Holocaust memoria… https://t.co/s3uhHbyXOQ',\n",
       " 'RT @onedovealone: The FAILING NYT still tries to trash @POTUS they show DACA illegals turning their ungrateful backs on the Presidents #SOT…',\n",
       " 'RT @renzhiqiang2017: President trump issued a new state of the union address.There is nothing new.We know exactly what he wants to do.The s…',\n",
       " 'RT @realDonaldTrump: Thank you for all of the nice compliments and reviews on the State of the Union speech. 45.6 million people watched, t…',\n",
       " 'RT @newtgingrich: Solving the opioid crisis. Infrastructure reform. Lowering the costs of prescription drugs. These are all practical, bipa…',\n",
       " 'RT @OANN: #RT @GrahamLedger: Disgraceful. Reading texts, messing with Twitter and playing Candy Crush by Democrats during the State of the…',\n",
       " \"RT @GovMikeHuckabee: 75% of Americans approved @POTUS SOTU speech; but Dems expose that they DON'T approve jobs for blacks, Hispanics, immi…\",\n",
       " 'The problem with the greatest SOTU speech ever... https://t.co/Fg6SeInGAT',\n",
       " 'San Diegans Hurl Chanclas at Trump During State of the Union https://t.co/sGim01ERNx',\n",
       " 'RT @patsajak: What a great prank! Somebody put glue on half of the seats at State of the Union Address!',\n",
       " '@steven_metz @barefootboomer @_RobThompson I get your point but the term \"Union\" troops could also be used as a col… https://t.co/Eaywryup0X',\n",
       " 'RT @Lawrence: Mueller’s 1st question to Trump should be how many people watched your State of the Union speech.',\n",
       " 'I liked a @YouTube video https://t.co/wXMARULiqt President Trump Delivers the State of the Union Address',\n",
       " 'RT @thehill: GOP lawmaker defends inviting alt-right activist who has denied Holocaust to State of the Union https://t.co/wTfmDpruqO https:…',\n",
       " 'RT @JN31621: The parents of a teenager killed by MS-13 gang members hit out at the  Democrats who declined to stand and applaud when Presid…',\n",
       " 'RT @matthewjdowd: So the President says the NFL ratings were down because players weren’t patriots as they knelt during anthem, so then wha…',\n",
       " 'RT @ddale8: Obama’s, Bush’s and Clinton’s first State of the Union all had higher ratings than this. Ratings lying is one of Trump’s oldest…',\n",
       " \"RT @roriIZfunny: @realDonaldTrump @FoxNews Trump:  My State of the Union Had the Most Viewers Ever!\\n\\nApparently he's no good at simple arit…\",\n",
       " \"RT @HuffPost: Trump's first State of the Union address was...\",\n",
       " 'The Real State of the Union Is Awfully Uncertain https://t.co/yAdamHgUCJ via @thedailybeast',\n",
       " 'RT @dmartosko: Most overlooked State of the Union photo: Congressional Black Caucus members on their phones while Trump speaks -- including…',\n",
       " 'RT @johnpavlovitz: .@realDonaldTrump,\\n\\nCongratulations on having the most watched State of the Union Address of the past 16 years—by someon…',\n",
       " \"RT @mmpadellan: Nice job, Tweeps!\\n\\nBy staying away in droves from the fantasy fest that was trump's State of the Union, you've helped him h…\",\n",
       " 'RT @SenSanders: I know you might be shocked to hear this, but Trump got quite a number of things wrong last night in his State of the Union…',\n",
       " \"RT @krassenstein: Trump:  My State of the Union Had the Most Viewers Ever!\\n\\nApparently he's no good at simple arithmetic:\\n\\n45.6 million  -…\",\n",
       " \"RT @polishprincessh: How about my letter to the Speaker:\\n\\nDear Speaker Ryan:\\n\\nCongressperson Pelosi's &amp; Schumer deliberate disrespectful ac…\",\n",
       " \"RT @krassenstein: Trump:  My State of the Union Had the Most Viewers Ever!\\n\\nApparently he's no good at simple arithmetic:\\n\\n45.6 million  -…\",\n",
       " 'RT @MSNBC: Fact Check: Pres. Trump tweeted this morning that viewership for his first State of the Union was “the highest number in history…',\n",
       " 'RT @bbusa617: Fox News Leaves CNN and MSNBC in the DUST! Ratings! https://t.co/HPOxsvb1Q3\\n\\nFOX MARKED THE HIGHEST-RATED STATE OF THE UNION…',\n",
       " 'RT @SenSanders: I know you might be shocked to hear this, but Trump got quite a number of things wrong last night in his State of the Union…']"
      ]
     },
     "execution_count": 9,
     "metadata": {},
     "output_type": "execute_result"
    }
   ],
   "source": [
    "len(texts)"
   ]
  },
  {
   "cell_type": "code",
   "execution_count": 13,
   "metadata": {},
   "outputs": [
    {
     "data": {
      "text/plain": [
       "77"
      ]
     },
     "execution_count": 13,
     "metadata": {},
     "output_type": "execute_result"
    }
   ],
   "source": [
    "testTexts = list(set(twitter.get_texts(twitter.api.search(q='state of the union', lang='en', count=100)['statuses'])))\n",
    "len(testTexts)"
   ]
  },
  {
   "cell_type": "code",
   "execution_count": 12,
   "metadata": {},
   "outputs": [],
   "source": [
    "result = twitter.api.search(q='france election', lang='fr', count=100)\n",
    "statuses = result['statuses']\n",
    "texts = list(map(lambda x:x['text'],statuses))\n",
    "users = list(map(lambda x:x['user'], statuses))"
   ]
  },
  {
   "cell_type": "code",
   "execution_count": 13,
   "metadata": {},
   "outputs": [
    {
     "data": {
      "text/plain": [
       "'«\\xa0Dans la France issue du séisme électoral de 2017, hommes et femmes politiques continuent d’être perçus comme dist… https://t.co/ijbJcspbb2'"
      ]
     },
     "execution_count": 13,
     "metadata": {},
     "output_type": "execute_result"
    }
   ],
   "source": [
    "texts[0]"
   ]
  },
  {
   "cell_type": "code",
   "execution_count": 7,
   "metadata": {},
   "outputs": [
    {
     "ename": "AttributeError",
     "evalue": "module 'twitter' has no attribute 'serachTextOnly'",
     "output_type": "error",
     "traceback": [
      "\u001b[0;31m---------------------------------------------------------------------------\u001b[0m",
      "\u001b[0;31mAttributeError\u001b[0m                            Traceback (most recent call last)",
      "\u001b[0;32m<ipython-input-7-41ad6f7462c0>\u001b[0m in \u001b[0;36m<module>\u001b[0;34m()\u001b[0m\n\u001b[0;32m----> 1\u001b[0;31m \u001b[0mtexts\u001b[0m \u001b[0;34m=\u001b[0m \u001b[0mtwitter\u001b[0m\u001b[0;34m.\u001b[0m\u001b[0mserachTextOnly\u001b[0m\u001b[0;34m(\u001b[0m\u001b[0mq\u001b[0m\u001b[0;34m=\u001b[0m\u001b[0;34m'france election'\u001b[0m\u001b[0;34m)\u001b[0m\u001b[0;34m\u001b[0m\u001b[0m\n\u001b[0m",
      "\u001b[0;31mAttributeError\u001b[0m: module 'twitter' has no attribute 'serachTextOnly'"
     ]
    }
   ],
   "source": [
    "texts = twitter.serachTextOnly(q='france election"
   ]
  }
 ],
 "metadata": {
  "kernelspec": {
   "display_name": "Python 3",
   "language": "python",
   "name": "python3"
  },
  "language_info": {
   "codemirror_mode": {
    "name": "ipython",
    "version": 3
   },
   "file_extension": ".py",
   "mimetype": "text/x-python",
   "name": "python",
   "nbconvert_exporter": "python",
   "pygments_lexer": "ipython3",
   "version": "3.6.4"
  }
 },
 "nbformat": 4,
 "nbformat_minor": 2
}
